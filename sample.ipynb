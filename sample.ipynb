{
 "cells": [
  {
   "metadata": {},
   "cell_type": "markdown",
   "source": "",
   "id": "b199153faaa3949f"
  },
  {
   "metadata": {},
   "cell_type": "markdown",
   "source": [
    "# This is a sample Jupyter Notebook\n",
    "\n",
    "Below is an example of a code cell. \n",
    "Put your cursor into the cell and press Shift+Enter to execute it and select the next one, or click 'Run Cell' button.\n",
    "\n",
    "Press Double Shift to search everywhere for classes, files, tool windows, actions, and settings.\n",
    "\n",
    "To learn more about Jupyter Notebooks in PyCharm, see [help](https://www.jetbrains.com/help/pycharm/ipython-notebook-support.html).\n",
    "For an overview of PyCharm, go to Help -> Learn IDE features or refer to [our documentation](https://www.jetbrains.com/help/pycharm/getting-started.html)."
   ],
   "id": "8a77807f92f26ee"
  },
  {
   "metadata": {
    "ExecuteTime": {
     "end_time": "2025-09-04T19:45:49.684052Z",
     "start_time": "2025-09-04T19:45:28.954324Z"
    }
   },
   "cell_type": "code",
   "source": [
    "age = input(\"What is your age?\")\n",
    "age = int(age)\n",
    "\n",
    "user = input(\"Are you a student or a teacher?\")\n",
    "\n",
    "if age > 18:\n",
    "    if user == \"Student\":\n",
    "        print(\"Welcome to college!\")\n",
    "    else:\n",
    "        print(\"Hello professor!\")\n"
   ],
   "id": "fbc121e30a2defb3",
   "outputs": [
    {
     "name": "stdout",
     "output_type": "stream",
     "text": [
      "Hello professor!\n"
     ]
    }
   ],
   "execution_count": 1
  },
  {
   "metadata": {
    "ExecuteTime": {
     "end_time": "2025-09-04T20:04:39.310795Z",
     "start_time": "2025-09-04T20:04:39.306851Z"
    }
   },
   "cell_type": "code",
   "source": [
    "def describe_type(value):\n",
    "    match str(type(value)):\n",
    "        case \"<class 'int'>\":\n",
    "            return \"Integer\"\n",
    "        case \"<class 'float'>\":\n",
    "            return \"Float\"\n",
    "        case \"<class 'str'>\":\n",
    "            return \"String\"\n",
    "        case \"<class 'bool'>\":\n",
    "            return \"Boolean\"\n",
    "        case _:\n",
    "            return \"Iterable or Unknown\"\n",
    "\n",
    "describe_type(9)"
   ],
   "id": "3c0ce717ef2f2c6b",
   "outputs": [
    {
     "data": {
      "text/plain": [
       "'Integer'"
      ]
     },
     "execution_count": 21,
     "metadata": {},
     "output_type": "execute_result"
    }
   ],
   "execution_count": 21
  }
 ],
 "metadata": {
  "kernelspec": {
   "display_name": "Python 3",
   "language": "python",
   "name": "python3"
  },
  "language_info": {
   "codemirror_mode": {
    "name": "ipython",
    "version": 2
   },
   "file_extension": ".py",
   "mimetype": "text/x-python",
   "name": "python",
   "nbconvert_exporter": "python",
   "pygments_lexer": "ipython2",
   "version": "2.7.6"
  }
 },
 "nbformat": 4,
 "nbformat_minor": 5
}
